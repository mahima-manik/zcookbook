{
 "cells": [
  {
   "cell_type": "markdown",
   "metadata": {},
   "source": [
    "# Searching Over Many PDFs with ZeroEntropy\n",
    "\n",
    "\n",
    "In this cookbook, you will learn how to use ZeroEntropy to search over many complex PDF documents from natural language queries. \\\n",
    "More specifically, you will go over how to upload PDF documents to ZeroEntroy, and then retrieve the most relevant documents, and snippets using complex queries. \n"
   ]
  },
  {
   "cell_type": "markdown",
   "metadata": {},
   "source": [
    "## Pre-requisites\n",
    "\n",
    "- A ZeroEntropy API Key\n",
    "\n",
    "That's it! \\\n",
    "You can create your API Key here: https://dashboard.zeroentropy.dev"
   ]
  },
  {
   "cell_type": "markdown",
   "metadata": {},
   "source": [
    "### Setting up your ZeroEntropy Client\n",
    "\n",
    "First, let's install ZeroEntropy and initialize a client."
   ]
  },
  {
   "cell_type": "code",
   "execution_count": null,
   "metadata": {},
   "outputs": [],
   "source": [
    "!pip install zeroentropy requests"
   ]
  },
  {
   "cell_type": "code",
   "execution_count": 2,
   "metadata": {},
   "outputs": [],
   "source": [
    "from zeroentropy import ZeroEntropy\n",
    "\n",
    "zclient = ZeroEntropy(api_key=\"YOUR_API_KEY\")"
   ]
  },
  {
   "cell_type": "markdown",
   "metadata": {},
   "source": [
    "That's it! Now let's prepare the data."
   ]
  },
  {
   "cell_type": "markdown",
   "metadata": {},
   "source": [
    "### Preparing the data\n",
    "\n",
    "For this example, we will use a few scientific papers about entropy (because why not!). \\\n",
    "We will create a collection and upload all those PDFs to that collection. \\\n",
    "We're going to write a function that fetches Arxiv papers based on specific keywords."
   ]
  },
  {
   "cell_type": "code",
   "execution_count": 3,
   "metadata": {},
   "outputs": [],
   "source": [
    "import requests\n",
    "from xml.etree import ElementTree as ET\n",
    "\n",
    "\n",
    "def get_arxiv_papers(query, max_results=10):\n",
    "    search_url = f\"http://export.arxiv.org/api/query?search_query=all:{query}&start=0&max_results={max_results}\"\n",
    "    response = requests.get(search_url)\n",
    "    \n",
    "    if response.status_code == 200:\n",
    "        papers = []\n",
    "        root = ET.fromstring(response.text)\n",
    "        \n",
    "        # Iterate over each entry in the XML response\n",
    "        for entry in root.findall(\"{http://www.w3.org/2005/Atom}entry\"):\n",
    "            for link in entry.findall(\"{http://www.w3.org/2005/Atom}link\"):\n",
    "                if link.attrib.get('title') == 'pdf':  # Find the PDF link specifically\n",
    "                    pdf_url = link.attrib['href']\n",
    "                    papers.append(pdf_url)\n",
    "                    \n",
    "        return papers\n",
    "    else:\n",
    "        print(\"Error fetching papers.\")\n",
    "        return []"
   ]
  },
  {
   "cell_type": "markdown",
   "metadata": {},
   "source": [
    "Now, we can use this function to find 50 (very long...) Arxiv papers about Zero Entropy! If you are interested, you can take a look at the papers using the links."
   ]
  },
  {
   "cell_type": "code",
   "execution_count": null,
   "metadata": {},
   "outputs": [],
   "source": [
    "# Get PDFs related to \"Zero Entropy\"\n",
    "pdf_list = get_arxiv_papers(\"zero entropy\", max_results=50)\n",
    "print(pdf_list[:5])"
   ]
  },
  {
   "cell_type": "markdown",
   "metadata": {},
   "source": [
    "## Uploading the data to ZeroEntropy\n",
    "\n",
    "Now that we have the list of PDFs we want to upload, let's add them all to a new collection as efficiently as possible.\n",
    "\n",
    "#### Create a collection"
   ]
  },
  {
   "cell_type": "code",
   "execution_count": null,
   "metadata": {},
   "outputs": [],
   "source": [
    "collection = zclient.collections.add(collection_name=\"arxiv_zero_entropy_papers\")\n",
    "print(collection.message)"
   ]
  },
  {
   "cell_type": "markdown",
   "metadata": {},
   "source": [
    "If you need to iterate, you can simply delete the collection by uncommenting the line below and rerunning the cell above."
   ]
  },
  {
   "cell_type": "code",
   "execution_count": 33,
   "metadata": {},
   "outputs": [],
   "source": [
    "#delete_collection = zclient.collections.delete(collection_name=\"arxiv_zero_entropy_papers\")"
   ]
  },
  {
   "cell_type": "markdown",
   "metadata": {},
   "source": [
    "#### Uploading a document to the new collection\n",
    "\n",
    "Now, we're going to define a function that will add each pdf to the newly created collection. The PDFs need to be converted to base64 before being added. "
   ]
  },
  {
   "cell_type": "code",
   "execution_count": 41,
   "metadata": {},
   "outputs": [],
   "source": [
    "import base64\n",
    "\n",
    "def process_pdf(url):\n",
    "    try:\n",
    "        # Download the PDF\n",
    "        response = requests.get(url, timeout=10)\n",
    "        response.raise_for_status()\n",
    "\n",
    "        # Convert to base64\n",
    "        base64_content = base64.b64encode(response.content).decode('utf-8')\n",
    "\n",
    "        # Upload to ZeroEntropy\n",
    "        response = zclient.documents.add(\n",
    "            collection_name=\"arxiv_zero_entropy_papers\",\n",
    "            path=url,\n",
    "            content={\n",
    "                \"type\": \"auto\",\n",
    "                \"base64_data\": base64_content,\n",
    "            }\n",
    "        )\n",
    "    \n",
    "    except Exception as e:\n",
    "        return f\"Error processing {url}: {e}\""
   ]
  },
  {
   "cell_type": "markdown",
   "metadata": {},
   "source": [
    "Now let's paralellize the upload of all those papers to the collection!"
   ]
  },
  {
   "cell_type": "code",
   "execution_count": null,
   "metadata": {},
   "outputs": [],
   "source": [
    "from concurrent.futures import ThreadPoolExecutor, as_completed\n",
    "\n",
    "with ThreadPoolExecutor(max_workers=10) as executor:\n",
    "    future_to_url = {executor.submit(process_pdf, url): url for url in pdf_list}\n",
    "\n",
    "    for future in as_completed(future_to_url):\n",
    "        print(future.result())"
   ]
  },
  {
   "cell_type": "markdown",
   "metadata": {},
   "source": [
    "DONE! Now let's make sure all documents are indexed properly."
   ]
  },
  {
   "cell_type": "code",
   "execution_count": null,
   "metadata": {},
   "outputs": [],
   "source": [
    "response = zclient.documents.get_info_list(collection_name=\"arxiv_zero_entropy_papers\")\n",
    "print(response.documents)"
   ]
  },
  {
   "cell_type": "markdown",
   "metadata": {},
   "source": [
    "Everything seems to look pretty good! Now, let's start querying those documents."
   ]
  },
  {
   "cell_type": "markdown",
   "metadata": {},
   "source": [
    "## Sending queries to ZeroEntropy\n",
    "\n",
    "We are going to play with two endpoints: top documents and top snippets. \\\n",
    "Top documents return the top k documents that are most relevant to a given query, and top snippets return short paragraphs within those documents. \\ \n",
    "Let's get started!"
   ]
  },
  {
   "cell_type": "markdown",
   "metadata": {},
   "source": [
    "### Top Documents Queries"
   ]
  },
  {
   "cell_type": "code",
   "execution_count": null,
   "metadata": {},
   "outputs": [],
   "source": [
    "response = zclient.queries.top_documents(\n",
    "    collection_name=\"arxiv_zero_entropy_papers\",\n",
    "    query=\"Can we use Zero Entropy to measure the complexity of a system?\",\n",
    "    k=3,\n",
    ")\n",
    "\n",
    "print(response.results)"
   ]
  },
  {
   "cell_type": "markdown",
   "metadata": {},
   "source": [
    "### Top Snippets Queries"
   ]
  },
  {
   "cell_type": "code",
   "execution_count": null,
   "metadata": {},
   "outputs": [],
   "source": [
    "response = zclient.queries.top_snippets(\n",
    "    collection_name=\"arxiv_zero_entropy_papers\",\n",
    "    query=\"What are the different types of entropy measures used to analyze dynamical systems, and how do they compare in terms of effectiveness?\",\n",
    "    k=3,\n",
    ")\n",
    "\n",
    "print(response.results)"
   ]
  },
  {
   "cell_type": "markdown",
   "metadata": {},
   "source": [
    "That's it! You can play around the two above examples and change the query and the value of k to retrieve more or less results. \\\n",
    "You'll learn a lot about the concept of entropy in information systems!"
   ]
  }
 ],
 "metadata": {
  "kernelspec": {
   "display_name": "Python 3",
   "language": "python",
   "name": "python3"
  },
  "language_info": {
   "codemirror_mode": {
    "name": "ipython",
    "version": 3
   },
   "file_extension": ".py",
   "mimetype": "text/x-python",
   "name": "python",
   "nbconvert_exporter": "python",
   "pygments_lexer": "ipython3",
   "version": "3.12.4"
  }
 },
 "nbformat": 4,
 "nbformat_minor": 2
}
